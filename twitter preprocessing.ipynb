{
 "cells": [
  {
   "cell_type": "code",
   "execution_count": 1,
   "metadata": {
    "collapsed": true
   },
   "outputs": [],
   "source": [
    "import itertools\n",
    "import os\n",
    "import re\n",
    "import string"
   ]
  },
  {
   "cell_type": "code",
   "execution_count": 2,
   "metadata": {
    "collapsed": false
   },
   "outputs": [
    {
     "name": "stdout",
     "output_type": "stream",
     "text": [
      "['../tweets/tweets2009-06.txt', '../tweets/tweets2009-07.txt', '../tweets/tweets2009-09.txt', '../tweets/tweets2009-08.txt']\n"
     ]
    }
   ],
   "source": [
    "tweet_files = map(lambda x: '../tweets/' + x, os.listdir('../tweets'))\n",
    "tweet_files = filter(lambda x: x[-3:] == 'txt', tweet_files)\n",
    "print tweet_files"
   ]
  },
  {
   "cell_type": "code",
   "execution_count": null,
   "metadata": {
    "collapsed": false
   },
   "outputs": [
    {
     "name": "stdout",
     "output_type": "stream",
     "text": [
      "['\\n', ' ', '!', '\"', '#', '$', '%', '&', \"'\", '(', ')', '*', '+', ',', '-', '.', '/', '0', '1', '2', '3', '4', '5', '6', '7', '8', '9', ':', ';', '<', '=', '>', '?', '@', '[', '\\\\', ']', '^', '_', 'a', 'b', 'c', 'd', 'e', 'f', 'g', 'h', 'i', 'j', 'k', 'l', 'm', 'n', 'o', 'p', 'q', 'r', 's', 't', 'u', 'v', 'w', 'x', 'y', 'z', '{', '|', '}', '~'] 69\n"
     ]
    }
   ],
   "source": [
    "alphabet = set(string.printable) - set(string.ascii_uppercase) - set(string.whitespace) - set(['`'])\n",
    "alphabet = list(alphabet) + [' ', '\\n']\n",
    "alphabet.sort()\n",
    "print alphabet, len(alphabet)"
   ]
  },
  {
   "cell_type": "code",
   "execution_count": null,
   "metadata": {
    "collapsed": false
   },
   "outputs": [],
   "source": [
    "multiple_spaces = re.compile(r'\\s\\s+')\n",
    "\n",
    "html_entity = re.compile(r'&[a-z]+;')\n",
    "html_replacements = {\n",
    "    '&gt;'     : '>',\n",
    "    '&lt;'     : '<',\n",
    "    '&nbsp;'   : ' ',\n",
    "    '&amp;'    : '&',\n",
    "    '&quot;'   : '\"',\n",
    "    '&lsquo;'  : \"'\",\n",
    "    '&rsquo;'  : \"'\",\n",
    "    '&apos;'   : \"'\",\n",
    "    '&laquo;'  : '\"',\n",
    "    '&raquo;'  : '\"',\n",
    "    '&mdash;'  : '-',\n",
    "    '&ndash;'  : '-',\n",
    "    '&reg;'    : '(r)',\n",
    "    '&copy;'   : '(c)',\n",
    "    '&pound;'  : 'pound',\n",
    "    '&euro;'   : 'euro',\n",
    "    '&bull;'   : '*',\n",
    "    '&middot;' : '.',\n",
    "    '&ldquo;'  : '\"',\n",
    "    '&rdquo;'  : '\"',\n",
    "    '&hellip;' : '...',\n",
    "    '&grave;'  : \"'\",\n",
    "    '&br;'     : ' ',\n",
    "    '&times;'  : 'x',\n",
    "    '&larr;'   : '<-',\n",
    "    '&rarr;'   : '->',\n",
    "    '&minus;'  : '-',\n",
    "    '&cent;'   : 'cent'\n",
    "}\n",
    "bad = set()\n",
    "\n",
    "def load_tweets(f, out):\n",
    "    fname = f\n",
    "    discarded, used = 0, 0\n",
    "    f = open(f)\n",
    "    for line in f:\n",
    "        # Select only the actual text of the tweet.\n",
    "        if line[0] != 'W':\n",
    "            discarded += 1\n",
    "            continue\n",
    "        line = line[1:].strip()\n",
    "        # Skip empty posts.\n",
    "        if line == 'No Post Title':\n",
    "            discarded += 1\n",
    "            continue\n",
    "        # Decode HTML entities.\n",
    "        entities = list(set(re.findall(html_entity, line)))\n",
    "        unrecognized = False\n",
    "        while len(entities) > 0:\n",
    "            entity = entities.pop()\n",
    "            if entity not in html_replacements:\n",
    "                unrecognized = True\n",
    "                break\n",
    "            line = line.replace(entity, html_replacements[entity])\n",
    "        if unrecognized:\n",
    "            if entity not in bad:\n",
    "                bad.add(entity)\n",
    "            discarded += 1\n",
    "            continue\n",
    "        line = line.lower()\n",
    "        line = re.sub(multiple_spaces, ' ', line)\n",
    "        line = line.replace('`', \"'\")\n",
    "        if not all(c in alphabet for c in line):\n",
    "            discarded += 1\n",
    "            continue\n",
    "        out.write(line + '\\n')\n",
    "        used += 1\n",
    "    f.close()\n",
    "    print \"%s: Used %d tweets. Discarded %d tweets.\" % (fname, used, discarded)\n",
    "    return tweets\n",
    "\n",
    "def load_all_tweets(fs):\n",
    "    return list(itertools.chain.from_iterable(map(load_tweets, fs)))\n",
    "\n",
    "clean = open('twitter_cleaned_6-9.txt', 'w')\n",
    "for f in tweet_files:\n",
    "    tweets = load_tweets(f, clean)\n",
    "clean.close()    \n",
    "    \n",
    "print 'Untranslated HTML entities: ' + str(list(bad))"
   ]
  },
  {
   "cell_type": "code",
   "execution_count": null,
   "metadata": {
    "collapsed": false
   },
   "outputs": [],
   "source": []
  }
 ],
 "metadata": {
  "kernelspec": {
   "display_name": "Python 2",
   "language": "python",
   "name": "python2"
  },
  "language_info": {
   "codemirror_mode": {
    "name": "ipython",
    "version": 2
   },
   "file_extension": ".py",
   "mimetype": "text/x-python",
   "name": "python",
   "nbconvert_exporter": "python",
   "pygments_lexer": "ipython2",
   "version": "2.7.12+"
  }
 },
 "nbformat": 4,
 "nbformat_minor": 2
}
