{
 "cells": [
  {
   "cell_type": "code",
   "execution_count": 7,
   "metadata": {
    "collapsed": false
   },
   "outputs": [],
   "source": [
    "import linereader\n",
    "import numpy as np\n",
    "import random\n",
    "import string"
   ]
  },
  {
   "cell_type": "code",
   "execution_count": 8,
   "metadata": {
    "collapsed": false,
    "scrolled": false
   },
   "outputs": [],
   "source": [
    "datafile = 'dataset-twitter/cleaned_tweets.txt'\n",
    "n_lines = 420012443\n",
    "\n",
    "class DataGenerator(object):\n",
    "    def __init__(self, f, test_size=10000, cache_size=100000, n_lines=-1):\n",
    "        self.f = linereader.dopen(f)\n",
    "        if n_lines < 1:\n",
    "            self.n_lines = 0\n",
    "            for line in self.f:\n",
    "                self.n_lines += 1\n",
    "        else:\n",
    "            self.n_lines = n_lines\n",
    "        assert self.n_lines > cache_size\n",
    "        self.cache = []\n",
    "        self.cache_size = cache_size\n",
    "        self.test_size = test_size\n",
    "        self.test_set = self.f.getlines(1, test_size)\n",
    "        self.__cache()\n",
    "    def __del__(self):\n",
    "        self.f.close()\n",
    "    def __iter__(self):\n",
    "        return self\n",
    "    def __cache(self):\n",
    "        linenum = random.randint(self.test_size + 1, self.n_lines - self.cache_size)\n",
    "        lines = self.f.getlines(linenum, linenum + self.cache_size)\n",
    "        self.cache.extend(lines)\n",
    "        random.shuffle(self.cache)\n",
    "    def next(self):\n",
    "        if len(self.cache) == 0:\n",
    "            self.__cache()\n",
    "        return self.cache.pop()\n",
    " \n",
    "gen = DataGenerator(datafile, n_lines=n_lines)"
   ]
  },
  {
   "cell_type": "code",
   "execution_count": 84,
   "metadata": {
    "collapsed": false
   },
   "outputs": [
    {
     "name": "stdout",
     "output_type": "stream",
     "text": [
      "http://twitpic.com/74rcj - flora&fauna's men's jellyfish tee recently sited in milan!!\n",
      "\n",
      "99920\n"
     ]
    }
   ],
   "source": [
    "tweet = gen.next()\n",
    "print tweet\n",
    "print len(gen.cache)"
   ]
  },
  {
   "cell_type": "code",
   "execution_count": 10,
   "metadata": {
    "collapsed": false
   },
   "outputs": [
    {
     "name": "stdout",
     "output_type": "stream",
     "text": [
      "['\\n', ' ', '!', '\"', '#', '$', '%', '&', \"'\", '(', ')', '*', '+', ',', '-', '.', '/', '0', '1', '2', '3', '4', '5', '6', '7', '8', '9', ':', ';', '<', '=', '>', '?', '@', '[', '\\\\', ']', '^', '_', 'a', 'b', 'c', 'd', 'e', 'f', 'g', 'h', 'i', 'j', 'k', 'l', 'm', 'n', 'o', 'p', 'q', 'r', 's', 't', 'u', 'v', 'w', 'x', 'y', 'z', '{', '|', '}', '~'] 69\n",
      "{'\\n': 0, '!': 2, ' ': 1, '#': 4, '\"': 3, '%': 6, '$': 5, \"'\": 8, '&': 7, ')': 10, '(': 9, '+': 12, '*': 11, '-': 14, ',': 13, '/': 16, '.': 15, '1': 18, '0': 17, '3': 20, '2': 19, '5': 22, '4': 21, '7': 24, '6': 23, '9': 26, '8': 25, ';': 28, ':': 27, '=': 30, '<': 29, '?': 32, '>': 31, '@': 33, '[': 34, ']': 36, '\\\\': 35, '_': 38, '^': 37, 'a': 39, 'c': 41, 'b': 40, 'e': 43, 'd': 42, 'g': 45, 'f': 44, 'i': 47, 'h': 46, 'k': 49, 'j': 48, 'm': 51, 'l': 50, 'o': 53, 'n': 52, 'q': 55, 'p': 54, 's': 57, 'r': 56, 'u': 59, 't': 58, 'w': 61, 'v': 60, 'y': 63, 'x': 62, '{': 65, 'z': 64, '}': 67, '|': 66, '~': 68}\n"
     ]
    }
   ],
   "source": [
    "alphabet = set(string.printable) - set(string.ascii_uppercase) - set(string.whitespace) - set(['`'])\n",
    "alphabet = list(alphabet) + [' ', '\\n']\n",
    "alphabet.sort()\n",
    "print alphabet, len(alphabet)\n",
    "\n",
    "index_to_char = alphabet\n",
    "char_to_index = {}\n",
    "for i in xrange(len(alphabet)):\n",
    "    char_to_index[alphabet[i]] = i\n",
    "print char_to_index"
   ]
  },
  {
   "cell_type": "code",
   "execution_count": 16,
   "metadata": {
    "collapsed": false
   },
   "outputs": [
    {
     "name": "stdout",
     "output_type": "stream",
     "text": [
      "24\n",
      "@nottinafey holla at me\n",
      "\n",
      "[[0 0 0 ..., 0 0 0]\n",
      " [0 0 0 ..., 0 0 0]\n",
      " [0 0 0 ..., 0 0 0]\n",
      " ..., \n",
      " [0 0 0 ..., 0 0 0]\n",
      " [1 0 0 ..., 0 0 0]\n",
      " [0 0 0 ..., 0 0 0]]\n",
      "\n",
      "(array([[0, 0, 0, ..., 0, 0, 0],\n",
      "       [0, 1, 0, ..., 0, 0, 0],\n",
      "       [0, 0, 0, ..., 0, 0, 0],\n",
      "       ..., \n",
      "       [0, 0, 0, ..., 0, 0, 0],\n",
      "       [0, 0, 0, ..., 0, 0, 0],\n",
      "       [1, 0, 0, ..., 0, 0, 0]], dtype=uint8), array([0, 0, 0, 0, 0, 0, 0, 0, 0, 0, 0, 0, 0, 0, 0, 0, 0, 0, 0, 0, 0, 0, 0,\n",
      "       0, 0, 0, 0, 0, 0, 0, 0, 0, 0, 0, 0, 0, 0, 0, 0, 0, 0, 0, 0, 0, 0, 0,\n",
      "       0, 0, 0, 0, 0, 0, 0, 0, 0, 0, 0, 0, 0, 0, 0, 0, 0, 0, 0, 0, 0, 0, 0], dtype=uint8))\n"
     ]
    }
   ],
   "source": [
    "def encode(tweet):\n",
    "    arr = np.zeros((len(tweet) + 1, len(alphabet)), dtype='uint8')\n",
    "    # The zero vector signifies the start of a sequence.\n",
    "    for i in xrange(1, len(tweet)):\n",
    "        arr[i, char_to_index[tweet[i]]] = 1\n",
    "    return arr\n",
    "\n",
    "tweet = gen.next()\n",
    "print len(tweet)\n",
    "print tweet\n",
    "print encode(tweet)\n",
    "print\n",
    "\n",
    "def generate(gen=gen):\n",
    "    t = gen.next()\n",
    "    t = encode(t)\n",
    "    yield t[:-1], t[-1]\n",
    "    \n",
    "for seq in generate():\n",
    "    print seq\n",
    "    break"
   ]
  },
  {
   "cell_type": "code",
   "execution_count": null,
   "metadata": {
    "collapsed": false
   },
   "outputs": [],
   "source": [
    "\"\"\"\n",
    "test_set = encode_array(gen.test_set)\n",
    "print test_set\n",
    "\"\"\""
   ]
  }
 ],
 "metadata": {
  "kernelspec": {
   "display_name": "Python 2",
   "language": "python",
   "name": "python2"
  },
  "language_info": {
   "codemirror_mode": {
    "name": "ipython",
    "version": 2
   },
   "file_extension": ".py",
   "mimetype": "text/x-python",
   "name": "python",
   "nbconvert_exporter": "python",
   "pygments_lexer": "ipython2",
   "version": "2.7.12+"
  }
 },
 "nbformat": 4,
 "nbformat_minor": 2
}
